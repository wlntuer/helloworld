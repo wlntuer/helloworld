{
 "cells": [
  {
   "cell_type": "markdown",
   "metadata": {},
   "source": [
    "# <center>2018 中原银行数据建模师<center>\n",
    "### <CENTER>TEST1 第1天 0526 Python练习题<center>\n",
    "### <center>作者：寒小阳、助教-大熊、助教-大菜菜<center>"
   ]
  },
  {
   "cell_type": "markdown",
   "metadata": {},
   "source": [
    "-------\n",
    "## >>>作业说明：\n",
    "### 1. 答题步骤：\n",
    "- 回答问题**请保留每一步**操作过程，请不要仅仅给出最后答案\n",
    "- 请养成代码注释的好习惯\n",
    "\n",
    "### 2. 解题思路：\n",
    "- 为方便大家准确理解题目，在习题实战中有所收获，本文档提供了解题思路提示\n",
    "- 解题思路**仅供参考**，鼓励原创解题方法，鼓励自学pandas技巧\n",
    "- 为督促同学们自己思考，解题思路内容设置为**白色**，必要时请从冒号后拖动鼠标查看\n",
    "\n",
    "### 3. 所用数据：\n",
    "- 问题使用了多个数据库，number.txt请从群文件下载，其余数据文件可自行寻找\n",
    "- 请注意导入每个数据库后都先**查看和了解数据的基本性质**，后面的问题不再一一提醒"
   ]
  },
  {
   "cell_type": "markdown",
   "metadata": {},
   "source": [
    "### 1. 任意定义三个数(有整型和浮点型)，通过比较判断，输出其最大者。"
   ]
  },
  {
   "cell_type": "code",
   "execution_count": 20,
   "metadata": {},
   "outputs": [
    {
     "name": "stdout",
     "output_type": "stream",
     "text": "2\n2\n"
    }
   ],
   "source": [
    "a=1\n",
    "b=2\n",
    "c=1.5\n",
    "cd =[a,b,c]\n",
    "e=max(cd)\n",
    "print(e)\n",
    "\n",
    "##比较一下\n",
    "tmpmax=cd[0]\n",
    "for ee in cd:\n",
    "    if ee>tmpmax:\n",
    "        tmpmax=ee\n",
    "print(tmpmax)\n",
    "    "
   ]
  },
  {
   "cell_type": "markdown",
   "metadata": {},
   "source": [
    "### 2. 将任意一句英文中的每个单词的倒序输出。例如\"You are nice\"，输出为\"uoY era ecin\"\n",
    "\n",
    "- 提示：<span style='color:white'>将一个字符串倒序输出可以使用切片方法[::-1]</span>"
   ]
  },
  {
   "cell_type": "code",
   "execution_count": 21,
   "metadata": {},
   "outputs": [
    {
     "ename": "SyntaxError",
     "evalue": "invalid syntax (<ipython-input-21-43fa075d4c7a>, line 7)",
     "output_type": "error",
     "traceback": [
      "\u001b[1;36m  File \u001b[1;32m\"<ipython-input-21-43fa075d4c7a>\"\u001b[1;36m, line \u001b[1;32m7\u001b[0m\n\u001b[1;33m    (/空格填充)\u001b[0m\n\u001b[1;37m     ^\u001b[0m\n\u001b[1;31mSyntaxError\u001b[0m\u001b[1;31m:\u001b[0m invalid syntax\n"
     ]
    }
   ],
   "source": [
    "sen= \"We are workers\"\n",
    "sl=sen.split(\" \")\n",
    "aa=[]\n",
    "##print(sl)\n",
    "for item in sl:\n",
    "    aa.append(item[::-1])\n",
    "    //空格填充\n",
    "print(' '.join(aa))"
   ]
  },
  {
   "cell_type": "markdown",
   "metadata": {},
   "source": [
    "### 3. 字符串 a = \"AjDSjIDhaDiDdcAaJkH\"\n",
    "### 请统计 a 字符串中每个字母的出现次数（忽略大小写，a 与 A 是同一个字母），并输出成一个字典。例 {'a':4,'d':5}\n",
    "\n",
    "- 提示：<span style='color:white'>用lower()方法将字符串字母都转为小写，再用for循环遍历统计</span>"
   ]
  },
  {
   "cell_type": "code",
   "execution_count": 0,
   "metadata": {},
   "outputs": [],
   "source": [
    "a = \"AjDSjIDhaDiDdcAaJkH\"\n",
    "b=a.lower()\n",
    "dict={}\n",
    "for i in b:\n",
    "    if i in dict.keys():\n",
    "        dict[i]+=1\n",
    "    else:\n",
    "        dict[i]=1\n",
    "print(dict)\n",
    " \n"
   ]
  },
  {
   "cell_type": "markdown",
   "metadata": {},
   "source": [
    "### 4. 用列表生成式1到200之间能被2或3整除的数"
   ]
  },
  {
   "cell_type": "code",
   "execution_count": 0,
   "metadata": {},
   "outputs": [],
   "source": [
    "s=range(1,201)\n",
    "yy=[ss for ss in s if ss%2==0 or ss%3==0]\n",
    "print(yy)"
   ]
  },
  {
   "cell_type": "markdown",
   "metadata": {},
   "source": [
    "### 5. 切片练习，从上述列表中取出下标为奇数的所有元素，并将其进行降序排序\n",
    "\n",
    "- 提示：<span style='color:white'>取下标为奇数的切片方法为[1::2],偶数为[::2]</span>"
   ]
  },
  {
   "cell_type": "code",
   "execution_count": 33,
   "metadata": {},
   "outputs": [
    {
     "name": "stdout",
     "output_type": "stream",
     "text": "[198, 195, 192, 189, 186, 183, 180, 177, 174, 171, 168, 165, 162, 159, 156, 153, 150, 147, 144, 141, 138, 135, 132, 129, 126, 123, 120, 117, 114, 111, 108, 105, 102, 99, 96, 93, 90, 87, 84, 81, 78, 75, 72, 69, 66, 63, 60, 57, 54, 51, 48, 45, 42, 39, 36, 33, 30, 27, 24, 21, 18, 15, 12, 9, 6, 3]\n"
    }
   ],
   "source": [
    "yy2=yy[-2::-2]\n",
    "print(yy2)\n",
    "\n"
   ]
  },
  {
   "cell_type": "markdown",
   "metadata": {},
   "source": [
    "### 6. 定义一个函数，完成一个小任务：对于给定的银行定期利率(输入)，计算多少年后可以连本带息翻番\n",
    "\n",
    "- 提示：<span style='color:white'>import math</span>"
   ]
  },
  {
   "cell_type": "code",
   "execution_count": 45,
   "metadata": {},
   "outputs": [
    {
     "name": "stdout",
     "output_type": "stream",
     "text": [
      "log函数16\n",
      "循环16\n"
     ]
    }
   ],
   "source": [
    "from math import log\n",
    "def year(r):\n",
    "    ##强制向下取整，年数加1\n",
    "    y=(log(2,(1+r)))\n",
    "    if y%1==0:\n",
    "        return y\n",
    "    else:\n",
    "        return int(y)+1\n",
    "print(\"log函数\"+str(year(0.045)))\n",
    "## 用循环判断\n",
    "def year1(r):\n",
    "    i=1\n",
    "    j=0\n",
    "    while i<=2:\n",
    "        i=i*(1+r)\n",
    "        j+=1\n",
    "    return j\n",
    "\n",
    "print(\"循环\"+str(year1(0.045)))\n",
    "    "
   ]
  },
  {
   "cell_type": "markdown",
   "metadata": {},
   "source": [
    "### 7. 统计1到100之和"
   ]
  },
  {
   "cell_type": "code",
   "execution_count": 47,
   "metadata": {},
   "outputs": [
    {
     "name": "stdout",
     "output_type": "stream",
     "text": [
      "5050\n"
     ]
    }
   ],
   "source": [
    "d100=range(1,101)\n",
    "i=0\n",
    "for item in d100:\n",
    "    i=i+item\n",
    "print(i)"
   ]
  },
  {
   "cell_type": "markdown",
   "metadata": {},
   "source": [
    "### 8.现有两个列表，如下：\n",
    "### [\"小明\",\"小红\",\"小刚\",\"小张\"]、[97,78,90,89]\n",
    "### 请编写代码，实现将上述列表合并转化成字典：\n",
    "### {\"小明\":97,\"小红\"：78,\"小刚\"：90,\"小张\"：89}\n",
    "\n",
    "- 提示：<span style='color:white'>dict(zip(list1,list2))</span>"
   ]
  },
  {
   "cell_type": "code",
   "execution_count": 82,
   "metadata": {
    "scrolled": true
   },
   "outputs": [
    {
     "name": "stdout",
     "output_type": "stream",
     "text": [
      "{'小刚': 90, '小红': 78, '小张': 89, '小明': 97}\n"
     ]
    }
   ],
   "source": [
    "a=[\"小明\",\"小红\",\"小刚\",\"小张\"]\n",
    "b=[97,78,90,89]\n",
    "c=zip(a,b)\n",
    "dict={}\n",
    "i=0\n",
    "for item in a:\n",
    "    dict[item]=b[i]\n",
    "    i+=1\n",
    "print(dict)\n",
    "    "
   ]
  },
  {
   "cell_type": "markdown",
   "metadata": {},
   "source": [
    "### 9. 现有一个表示学生信息的列表，如下：\n",
    "\n",
    "### infolst=[{\"小明\":\"180cm\"},{\"小红\":\"155cm\"},{\"小明\":\"70kg\"},{\"小红\":\"45kg\"},{\"小明\":21},{\"小红\":20}]\n",
    "\n",
    "### 请编写代码实现将上述列表合并成如下形式：\n",
    "\n",
    "### infolst1=[{\"小明\":[\"180cm\",\"70kg\",21]},{\"小红\":[\"155cm\",\"45kg\",20]}]\n",
    " \n",
    "\n",
    "- 提示：<span style='color:white'>dict.setdefault()</span>"
   ]
  },
  {
   "cell_type": "code",
   "execution_count": 111,
   "metadata": {},
   "outputs": [
    {
     "name": "stdout",
     "output_type": "stream",
     "text": [
      "[{'小红': ['155cm', '45kg', 20]}, {'小明': ['180cm', '70kg', 21]}]\n"
     ]
    }
   ],
   "source": [
    "infolst=[{\"小明\":\"180cm\"},{\"小红\":\"155cm\"},{\"小明\":\"70kg\"},{\"小红\":\"45kg\"},{\"小明\":21},{\"小红\":20}]\n",
    "dict={}\n",
    "a=[]\n",
    "for item in infolst:\n",
    "    for name,pro in item.items():\n",
    "        if name in dict:\n",
    "            dict[name].append(pro)\n",
    "        else:\n",
    "            dict[name] =[pro]\n",
    "##提取出来，变成独立的dict\n",
    "for x in dict.keys():\n",
    "    ##dict.get(x)\n",
    "    a.append({x:dict.get(x)})\n",
    "print(a)\n",
    "    \n",
    "    \n",
    "    \n",
    "    \n",
    "    "
   ]
  },
  {
   "cell_type": "markdown",
   "metadata": {},
   "source": [
    "### 10. 定义一个函数，能实现将列表逆序输出的功能。\n",
    "\n",
    "### 例如，输入列表为[1,4,8,5,3], 则返回值为[3,5,8,4,1]\n",
    "\n",
    "- 提示：<span style='color:white'>a[i],a[N - i - 1] = a[N - i - 1],a[i]</span>"
   ]
  },
  {
   "cell_type": "code",
   "execution_count": 77,
   "metadata": {},
   "outputs": [
    {
     "name": "stdout",
     "output_type": "stream",
     "text": [
      "[3, 5, 8, 4, 1]\n"
     ]
    }
   ],
   "source": [
    "def rev1(ss):\n",
    "    ss.reverse()\n",
    "    return ss\n",
    " \n",
    "bb=rev1([1,4,8,5,3])\n",
    "print(bb)"
   ]
  },
  {
   "cell_type": "markdown",
   "metadata": {},
   "source": [
    "### 11. 斐波那契数列（Fibonacci sequence）\n",
    "### 斐波那契数列又称黄金分割数列，指的是这样一个数列：0、1、1、2、3、5、8、13、21、34、……\n",
    "### 在数学上，费波那契数列是以递归的方法来定义：\n",
    "### F0 = 0 (n=0)；F1 = 1 (n=1)；Fn = F[n-1]+ F[n-2] (n=>2)\n",
    "### 请用定义一个函数实现斐波那契数列，并打印出F20的值"
   ]
  },
  {
   "cell_type": "code",
   "execution_count": null,
   "metadata": {
    "collapsed": true
   },
   "outputs": [],
   "source": [
    "def fib(ind):\n",
    "    if ind<=1:\n",
    "        return ind/1\n",
    "    else:\n",
    "        return (fib(ind-1)+fib(ind-2))\n",
    "    \n",
    "print(fib(20))"
   ]
  },
  {
   "cell_type": "markdown",
   "metadata": {},
   "source": [
    "### 12. 回文数\n",
    "### 回文数指任意自然数n，若将n的各位数字反向排列所得自然数n1与n相等，则称n为一回文数。例如:12321,235532。\n",
    "### 请定义一个函数判断某个数是否为回文数\n",
    "\n",
    "- 提示：<span style='color:white'>x[i] != x[-i - 1]（看下标为i的元素和下标为-i-1的元素是否相等（对称））</span>"
   ]
  },
  {
   "cell_type": "code",
   "execution_count": 39,
   "metadata": {},
   "outputs": [
    {
     "name": "stdout",
     "output_type": "stream",
     "text": [
      "False\n",
      "False\n",
      "False\n",
      "True\n",
      "True\n",
      "True\n"
     ]
    }
   ],
   "source": [
    "def huiwen(s):\n",
    "    s=str(s)\n",
    "    l=len(s)\n",
    "    if l<2:\n",
    "        return False\n",
    "    #print(s[0:l//2])\n",
    "    #print(s[l-1:l//2-1+l%2:-1])\n",
    "    return s[0:l//2]==s[l-1:l//2-1+l%2:-1]\n",
    "        \n",
    "    #我是不是很聪明\n",
    "\n",
    "\n",
    "print(huiwen(123456))\n",
    "print(huiwen(1))\n",
    "print(huiwen(12))\n",
    "print(huiwen(11))\n",
    "print(huiwen(121))\n",
    "print(huiwen(1221))\n",
    "    "
   ]
  },
  {
   "cell_type": "markdown",
   "metadata": {},
   "source": [
    "### 13. 完数\n",
    "### 一个数如果恰好等于它的因子之和，这个数就称为“完数”\n",
    "### 例如，6的因子为1、2、3，而6=1+2+3，因此6是完数\n",
    "### 编程，找出10000之内的所有完数，并输出该完数及对应的因子"
   ]
  },
  {
   "cell_type": "code",
   "execution_count": null,
   "metadata": {
    "collapsed": true
   },
   "outputs": [],
   "source": [
    "def wanshu(num):\n",
    "    i=1\n",
    "    wanshu=[] \n",
    "    while i <=num:\n",
    "        j=1\n",
    "        jj=i//2\n",
    "        sum=0\n",
    "        while j<=jj:\n",
    "            if i%j==0:\n",
    "                sum=sum+j\n",
    "            j=j+1\n",
    "        \n",
    "        if sum==i:    \n",
    "            wanshu.append[i]\n",
    "        i+=1\n",
    "return wanshu\n",
    "\n",
    "print(wanshu(10000))"
   ]
  },
  {
   "cell_type": "markdown",
   "metadata": {},
   "source": [
    "## 正则表达式"
   ]
  },
  {
   "cell_type": "code",
   "execution_count": 62,
   "metadata": {
    "collapsed": true
   },
   "outputs": [],
   "source": [
    "text = 'Python is an interpreted high-level programming language for general-purpose programming. Created by Guido van Rossum and first released in 1991, Python has a design philosophy that emphasizes code readability, notably using significant whitespace. It provides constructs that enable clear programming on both small and large scales.Python features a dynamic type system and automatic memory management. It supports multiple programming paradigms, including object-oriented, imperative, functional and procedural, and has a large and comprehensive standard library.Python interpreters are available for many operating systems. CPython, the reference implementation of Python, is open source software[28] and has a community-based development model, as do nearly all of its variant implementations. CPython is managed by the non-profit Python Software Foundation.'"
   ]
  },
  {
   "cell_type": "markdown",
   "metadata": {},
   "source": [
    "### 14.请找出text中python或包含python的所有单词(忽略大小写)"
   ]
  },
  {
   "cell_type": "code",
   "execution_count": 6,
   "metadata": {},
   "outputs": [
    {
     "name": "stdout",
     "output_type": "stream",
     "text": [
      "['Python', 'Python', 'scales.Python', 'library.Python', 'CPython,', 'Python,', 'CPython', 'Python']\n"
     ]
    }
   ],
   "source": [
    "import re\n",
    "sp=re.compile(r'\\S*python\\S*',re.I)## \\S 代表非空白字符，*代表匹配0个或者多个\n",
    "print(re.findall(sp,text))"
   ]
  },
  {
   "cell_type": "markdown",
   "metadata": {},
   "source": [
    "### 15.请统计text中python出现的次数(忽略大小写)"
   ]
  },
  {
   "cell_type": "code",
   "execution_count": 13,
   "metadata": {},
   "outputs": [
    {
     "name": "stdout",
     "output_type": "stream",
     "text": [
      "8\n"
     ]
    }
   ],
   "source": [
    "import re\n",
    "sp=re.compile(r'python',re.I)\n",
    "plist=re.findall(sp,text)\n",
    "print(len(plist))"
   ]
  },
  {
   "cell_type": "markdown",
   "metadata": {},
   "source": [
    "### 16.请将text中所有的Python替换为Py"
   ]
  },
  {
   "cell_type": "code",
   "execution_count": 20,
   "metadata": {},
   "outputs": [
    {
     "data": {
      "text/plain": [
       "'Py is an interpreted high-level programming language for general-purpose programming. Created by Guido van Rossum and first released in 1991, Py has a design philosophy that emphasizes code readability, notably using significant whitespace. It provides constructs that enable clear programming on both small and large scales.Py features a dynamic type system and automatic memory management. It supports multiple programming paradigms, including object-oriented, imperative, functional and procedural, and has a large and comprehensive standard library.Py interpreters are available for many operating systems. CPy, the reference implementation of Py, is open source software[28] and has a community-based development model, as do nearly all of its variant implementations. CPy is managed by the non-profit Py Software Foundation.'"
      ]
     },
     "execution_count": 20,
     "metadata": {},
     "output_type": "execute_result"
    }
   ],
   "source": [
    "import re\n",
    "sp=re.compile(r'Python')\n",
    "#http://www.jb51.net/article/101511.htm 这里有用法\n",
    "result, number = sp.subn('Py', text)\n",
    "result"
   ]
  },
  {
   "cell_type": "markdown",
   "metadata": {},
   "source": [
    "### 17.请编写一个函数检查字符串中是否只包含数字和大小写字母，如果是返回True，如果否返回False\n",
    "\n",
    "- 提示：<span style='color:white'>可以反过来想，包含除数字和大小写字母以外的字符：[^a-zA-Z0-9])</span>"
   ]
  },
  {
   "cell_type": "code",
   "execution_count": 50,
   "metadata": {},
   "outputs": [
    {
     "name": "stdout",
     "output_type": "stream",
     "text": [
      "['a', 'f', 's', 'd', 'f', 'k', 'l', 'f', '1', '2', '1']\n"
     ]
    },
    {
     "data": {
      "text/plain": [
       "False"
      ]
     },
     "execution_count": 50,
     "metadata": {},
     "output_type": "execute_result"
    }
   ],
   "source": [
    "import re\n",
    "def chranumber(strin):\n",
    "    sp=re.compile(r'[A-Za-z0-9]')\n",
    "    plist1=re.findall(sp,strin)\n",
    "    print(plist1)\n",
    "    l=len(plist1)\n",
    "    s=len(strin)\n",
    "    if l<s:\n",
    "        return False\n",
    "    else:\n",
    "        return True\n",
    "    \n",
    "chranumber(\"afsdf_klf121\")\n",
    "    "
   ]
  },
  {
   "cell_type": "markdown",
   "metadata": {},
   "source": [
    "### 18.请编写一个函数将日期形式yyyy-mm-dd转换成日期形式dd-mm-yyyy"
   ]
  },
  {
   "cell_type": "code",
   "execution_count": 63,
   "metadata": {},
   "outputs": [
    {
     "data": {
      "text/plain": [
       "['asdfhhsjfkha', 'afasdf']"
      ]
     },
     "execution_count": 63,
     "metadata": {},
     "output_type": "execute_result"
    }
   ],
   "source": [
    "dt='asdfhhsjfkha-afasdf'\n",
    "dt.split('-')"
   ]
  },
  {
   "cell_type": "code",
   "execution_count": 15,
   "metadata": {},
   "outputs": [
    {
     "name": "stdout",
     "output_type": "stream",
     "text": [
      "22-12-2018\n"
     ]
    }
   ],
   "source": [
    "# 用group匹配每一部分,\n",
    "# 用expand属性或re.sub函数\n",
    "def dttrans(dt):\n",
    "    m=dt.split('-')\n",
    "    m.reverse()\n",
    "    return ('-'.join(m))\n",
    "    \n",
    "    \n",
    "\n",
    "print(dttrans('2018-12-22'))"
   ]
  },
  {
   "cell_type": "markdown",
   "metadata": {},
   "source": [
    "### 19.请找出text中每句话的第一个单词"
   ]
  },
  {
   "cell_type": "code",
   "execution_count": 72,
   "metadata": {},
   "outputs": [
    {
     "name": "stdout",
     "output_type": "stream",
     "text": [
      "Python\n",
      "Created\n",
      "It\n",
      "Python\n",
      "It\n",
      "Python\n",
      "CPython,\n",
      "CPython\n",
      "\n"
     ]
    }
   ],
   "source": [
    "#f = open(\"The One With the Dozen Lasagnes.txt\", 'r', encoding='utf-8')\n",
    "#text=f.readlines()\n",
    "type(text)\n",
    "# 以句号分割每个句子\n",
    "contents = text.strip().split('.')\n",
    "type(contents)\n",
    "for line in contents:\n",
    "    word = line.strip().split(\" \")\n",
    "    print(word[0])\n",
    "#contents\n",
    "# 用循环取出每句的第一个单词\n",
    "\n",
    "\n"
   ]
  },
  {
   "cell_type": "markdown",
   "metadata": {},
   "source": [
    "## 文件读写"
   ]
  },
  {
   "cell_type": "markdown",
   "metadata": {},
   "source": [
    "### 20.读取文件number.txt并打印文件内容"
   ]
  },
  {
   "cell_type": "code",
   "execution_count": 24,
   "metadata": {},
   "outputs": [
    {
     "name": "stdout",
     "output_type": "stream",
     "text": [
      "/home/ds/notebooks/20180526/Exercise_Python\r\n"
     ]
    },
    {
     "data": {
      "text/plain": [
       "['1\\n',\n",
       " '2\\n',\n",
       " '3\\n',\n",
       " '4\\n',\n",
       " '5\\n',\n",
       " '6\\n',\n",
       " '7\\n',\n",
       " '8\\n',\n",
       " '9\\n',\n",
       " '10\\n',\n",
       " '11\\n',\n",
       " '12\\n',\n",
       " '13\\n',\n",
       " '14\\n',\n",
       " '15\\n',\n",
       " '16\\n',\n",
       " '17\\n',\n",
       " '18\\n',\n",
       " '19\\n',\n",
       " '20']"
      ]
     },
     "execution_count": 24,
     "metadata": {},
     "output_type": "execute_result"
    }
   ],
   "source": [
    "!pwd\n",
    "f = open('/home/ds/notebooks/20180526/Exercise_Python/number.txt', 'r', encoding='utf-8')\n",
    "f.readlines()"
   ]
  },
  {
   "cell_type": "markdown",
   "metadata": {},
   "source": [
    "### 21.读取文件夹下的所有文件名\n",
    "\n",
    "- 提示：<span style='color:white'>os模块中的os.listdir() 方法返回指定的文件夹包含的文件或文件夹的名字的列表</span>"
   ]
  },
  {
   "cell_type": "code",
   "execution_count": 56,
   "metadata": {},
   "outputs": [
    {
     "name": "stdout",
     "output_type": "stream",
     "text": [
      "/home/ds/notebooks\n",
      "['.ipynb_checkpoints', '20180526', '20180527']\n",
      "[]\n",
      "/home/ds/notebooks/.ipynb_checkpoints\n",
      "[]\n",
      "[]\n",
      "/home/ds/notebooks/20180526\n",
      "['.ipynb_checkpoints', 'Exercise_Python']\n",
      "['lesson1.ipynb', 'lesson1_more.ipynb', 'notebyself.ipynb']\n",
      "/home/ds/notebooks/20180526/.ipynb_checkpoints\n",
      "[]\n",
      "['lesson1-checkpoint.ipynb', 'lesson1_more-checkpoint.ipynb', 'notebyself-checkpoint.ipynb']\n",
      "/home/ds/notebooks/20180526/Exercise_Python\n",
      "['.ipynb_checkpoints']\n",
      "['Exercise_Python.ipynb', 'The One With the Dozen Lasagnes.txt', 'new.txt', 'number.txt']\n",
      "/home/ds/notebooks/20180526/Exercise_Python/.ipynb_checkpoints\n",
      "[]\n",
      "['Exercise_Python-checkpoint.ipynb']\n",
      "/home/ds/notebooks/20180527\n",
      "['.ipynb_checkpoints']\n",
      "['Exercise_Pandas.ipynb', 'pandas.ipynb', 'wind.data', '笔记pandas.ipynb']\n",
      "/home/ds/notebooks/20180527/.ipynb_checkpoints\n",
      "[]\n",
      "['Exercise_Pandas-checkpoint.ipynb', 'pandas-checkpoint.ipynb', '笔记pandas-checkpoint.ipynb']\n"
     ]
    }
   ],
   "source": [
    "import os  \n",
    "      \n",
    "def file_name(file_dir):   \n",
    "    for root, dirs, files in os.walk(file_dir):  \n",
    "            print(root) #当前目录路径  \n",
    "            print(dirs) #当前路径下所有子目录  \n",
    "            print(files) #当前路径下所有非目录子文件  \n",
    "\n",
    "file_name('/home/ds/notebooks')"
   ]
  },
  {
   "cell_type": "markdown",
   "metadata": {},
   "source": [
    "### 22.将文件number.txt中的内容写入命名为num.txt的新文件\n",
    "\n",
    "- number.txt文档请从QQ群文件下载"
   ]
  },
  {
   "cell_type": "code",
   "execution_count": 32,
   "metadata": {},
   "outputs": [
    {
     "data": {
      "text/plain": [
       "['1\\n',\n",
       " '2\\n',\n",
       " '3\\n',\n",
       " '4\\n',\n",
       " '5\\n',\n",
       " '6\\n',\n",
       " '7\\n',\n",
       " '8\\n',\n",
       " '9\\n',\n",
       " '10\\n',\n",
       " '11\\n',\n",
       " '12\\n',\n",
       " '13\\n',\n",
       " '14\\n',\n",
       " '15\\n',\n",
       " '16\\n',\n",
       " '17\\n',\n",
       " '18\\n',\n",
       " '19\\n',\n",
       " '20']"
      ]
     },
     "execution_count": 32,
     "metadata": {},
     "output_type": "execute_result"
    }
   ],
   "source": [
    "f = open('/home/ds/notebooks/20180526/Exercise_Python/number.txt', 'r', encoding='utf-8')\n",
    "cont=f.readlines()\n",
    "f.close()\n",
    "f_out = open('new.txt', 'w')\n",
    "for item in cont:\n",
    "    f_out.write(item)\n",
    "f_out.close()\n",
    "ft = open('/home/ds/notebooks/20180526/Exercise_Python/new.txt', 'r', encoding='utf-8')\n",
    "cont=ft.readlines()\n",
    "cont"
   ]
  },
  {
   "cell_type": "markdown",
   "metadata": {},
   "source": [
    "### 23.请编写一个函数统计文件内容的行数"
   ]
  },
  {
   "cell_type": "code",
   "execution_count": 10,
   "metadata": {},
   "outputs": [
    {
     "data": {
      "text/plain": [
       "613"
      ]
     },
     "execution_count": 10,
     "metadata": {},
     "output_type": "execute_result"
    }
   ],
   "source": [
    "def countlines(name):\n",
    "    # readlines() 方法用于读取所有行(直到结束符 EOF)并返回列表\n",
    "    f = open(name, 'r', encoding='utf-8')\n",
    "    # 函数len()\n",
    "    fl=f.readlines()\n",
    "    return len(fl)\n",
    "\n",
    "countlines(\"The One With the Dozen Lasagnes.txt\")"
   ]
  },
  {
   "cell_type": "markdown",
   "metadata": {},
   "source": [
    "### 24.编写一个函数打印文件的最后5行内容"
   ]
  },
  {
   "cell_type": "code",
   "execution_count": 6,
   "metadata": {},
   "outputs": [
    {
     "name": "stdout",
     "output_type": "stream",
     "text": [
      "Chandler: (to Joey) One more game?\n",
      "\n",
      "\n",
      "\n",
      "Joey: Oh yeah!\n",
      "\n",
      "\n",
      "\n",
      "End\n"
     ]
    }
   ],
   "source": [
    "# readlines() 方法用于读取所有行(直到结束符 EOF)并返回列表\n",
    "def printlast5lines(name):\n",
    "    f = open(name, 'r', encoding='utf-8')\n",
    "    listf=f.readlines()\n",
    "    listnew=listf[-5:]\n",
    "    for item in listnew:\n",
    "        print(item)\n",
    "    \n",
    "    \n",
    "\n",
    "    \n",
    "    \n",
    "    \n",
    "printlast5lines(\"The One With the Dozen Lasagnes.txt\")\n",
    "\n",
    "# 取出列表的最后5个元素"
   ]
  },
  {
   "cell_type": "code",
   "execution_count": 38,
   "metadata": {},
   "outputs": [
    {
     "name": "stdout",
     "output_type": "stream",
     "text": [
      "End\n",
      "Joey: Oh yeah!\n",
      "\n",
      "Chandler: (to Joey) One more game?\n",
      "\n",
      "Monica: You guys are always hanging out in my apartment! Come on, I'll only use my left hand, huh? Come on, wussies! (Joey and Chandler pick her up) All right, ok, I gotta go. I'm going, (they throw her out) and I'm gone.\n",
      "\n",
      "Chandler: Yeah, get out!\n",
      "\n"
     ]
    }
   ],
   "source": [
    "def printlast_5_lines_words(name):\n",
    "    f1 = open(name, 'r', encoding='utf-8')\n",
    "    listf1=f1.readlines()\n",
    "    i=-1\n",
    "    j=0\n",
    "    while j<5:\n",
    "        if listf1[i] !='\\n':\n",
    "            print(listf1[i])\n",
    "            j=j+1\n",
    "        i=i-1\n",
    "\n",
    "printlast_5_lines_words(\"The One With the Dozen Lasagnes.txt\")"
   ]
  },
  {
   "cell_type": "markdown",
   "metadata": {},
   "source": [
    "### 25.请输入一个文件路径名或文件名，查看该文件是否存在\n",
    "### 如存在，打开文件并在屏幕上输出该文件内容；\n",
    "### 如不存在，显示“输入的文件未找到！”并要求重新输入；\n",
    "### 如文件存在但在读文件过程中发生异常，则显示“文件无法正常读出！”并要求重新输入\n",
    "\n",
    "- 提示：<span style='color:white'>请使用异常处理。“文件未找到”对应的异常名为：IOError，其他异常直接用except匹配</span>"
   ]
  },
  {
   "cell_type": "code",
   "execution_count": 83,
   "metadata": {},
   "outputs": [
    {
     "name": "stdout",
     "output_type": "stream",
     "text": [
      "请输入文件名asfsd.txt\n",
      "文件未找到\n",
      "请输入文件名number.txt\n",
      "1\n",
      "2\n",
      "3\n",
      "4\n",
      "5\n",
      "6\n",
      "7\n",
      "8\n",
      "9\n",
      "10\n",
      "11\n",
      "12\n",
      "13\n",
      "14\n",
      "15\n",
      "16\n",
      "17\n",
      "18\n",
      "19\n",
      "20\n"
     ]
    }
   ],
   "source": [
    "while True:\n",
    "    file = input('请输入文件名')\n",
    "   # file=\"The One With the Dozen Lasagnes.txt\"\n",
    "    try:\n",
    "        f = open(file, 'r', encoding='utf-8')\n",
    "    except IOError: \n",
    "        print('文件未找到')\n",
    "    except :\n",
    "        print('文件无法正常读出！请重新输入')\n",
    "    else:\n",
    "        print (f.read())\n",
    "        break #成功读取并打印文件内容并退出循环"
   ]
  },
  {
   "cell_type": "markdown",
   "metadata": {},
   "source": [
    "# 文件读写与正则表达式"
   ]
  },
  {
   "cell_type": "markdown",
   "metadata": {},
   "source": [
    "### 26.找一本英文小说(转为txt格式)，把其中所有的代词(I, you, he, she, it, we, you, they, me, you, him, her, it, us, you, them)都替换成**"
   ]
  },
  {
   "cell_type": "code",
   "execution_count": 54,
   "metadata": {},
   "outputs": [
    {
     "name": "stdout",
     "output_type": "stream",
     "text": [
      "The One With the Dozen Lasagnes\n",
      "\n",
      "Written by Jeffrey Astrof, Mike Sikowitz, Adam Chase & Ira Ungerleider\n",
      "Transcribed by Jim and Tracy Lambers\n",
      "Minor additions and adjustments by Dan Silverstein\n",
      "\n",
      "[Scene: Central Perk, everyone is there. Ross working on crossword puzzle, starts humming theme from The Odd Couple. Chandler joins in, followed by Monica and Phoebe, then the whole gang. Ross starts humming theme from ** Dream Of Jeannie.]\n",
      "\n",
      "Chandler: No-no-no-no, **'re done.\n",
      "\n",
      "Opening Credits\n",
      "\n",
      "[Scene: Monica and Rachel's, Monica is on the phone in the kitchen.]\n",
      "\n",
      "Monica: Aunt Syl, stop yelling! All **'m saying is that if ** had told ** vegetarian lasagna, ** would have made vegetarian lasagna. (pauses, listens to person on phone) Well, the meat's only every third layer, maybe ** could scrape.\n",
      "\n",
      "(Camera moves to Chandler, Phoebe, Ross, and Joey sitting in living room)\n",
      "\n",
      "Joey: Ross, did ** really read all these baby books?\n",
      "\n",
      "Ross: Yup! You could plunk ** down in the middle of any woman's uterus, no compass, and ** can find my way out of there like that! (snaps fingers)\n",
      "\n",
      "Phoebe: Ooh, this is cool...** says in some parts of the world, people actually eat the placenta. (Joey grimaces)\n",
      "\n",
      "Chandler: And, **'re done with the yogurt. (Sets yogurt down on table)\n",
      "\n",
      "Phoebe: (softly) Sorry. (Camera pans back to Monica, still on phone)\n",
      "\n",
      "Monica: Aunt Syl, ** did this as a favor, ** am not a caterer. What do ** want ** to do with a dozen lasagnas? (listens to Aunt Syl on phone, looks shocked) Nice talk, Aunt Syl. (in New York accent) You kiss Uncle Freddie with that mouth?\n",
      "\n",
      "(Camera pans back to group in living room)\n",
      "\n",
      "Joey: Hey Ross, listen, ** know that right now, your baby's only this big? (measures about 2 inches with his thumb and index finger) This is your baby. (in baby-like voice) Hi Daddy!\n",
      "\n",
      "Ross: (waves) Hello!\n",
      "\n",
      "Joey: (in baby-like voice) How come ** don't live with Mommy? (pause; shows Ross less than amused) How come Mommy lives with that other lady? (pause; Ross still looks less than amused; Joey smiling) What's a lesbian? (playfully hits Ross)\n",
      "\n",
      "(Rachel enters with Paolo, speaking Italian. Ross looks annoyed)\n",
      "\n",
      "Rachel: Honey, ** can say **, Poconos, Poconos, **'s like Poc-o-nos (touching Paolo's nose with forefinger with each syllable)\n",
      "\n",
      "Paolo: Ah, poke (Paolo touches Rachel's nose) a (touches nose again) nose, mmm (** rub noses, then kisses **)\n",
      "\n",
      "Joey, Chandler, and Ross: (sitting in living room, imitating Paolo) Mma, Mma, Mmaah\n",
      "\n",
      "(Camera pans to Rachel, Monica, and Phoebe in the kitchen)\n",
      "\n",
      "Monica: So, did ** hear Poconos?\n",
      "\n",
      "Rachel: Yes, my sister's giving ** ** place for the weekend.\n",
      "\n",
      "Phoebe: Woo-hoo, first weekend away together!\n",
      "\n",
      "Monica: Yeah, that's a big step.\n",
      "\n",
      "Rachel: ** know...\n",
      "\n",
      "(Camera pans to Ross, looking dejected)\n",
      "\n",
      "Chandler: (to Ross) Ah, **'s just a weekend, big deal!\n",
      "\n",
      "Ross: Wasn't this supposed to be just a fling, huh? Shouldn't ** be...(makes flinging motions with hands) flung by now?\n",
      "\n",
      "(Camera pans back to Rachel)\n",
      "\n",
      "Rachel: ** mean, ** are way past the fling thing, ** mean, ** am feeling things that **'ve only read about in Danielle Steele books, ** know? ** mean, when **'m with **, **'m totally, totally...\n",
      "\n",
      "(Camera pans to Ross, holding his stomach)\n",
      "\n",
      "Ross: ...nauseous, **'m physically nauseous. What am ** supposed to do, huh? Call immigration? (pauses, looks suddenly inspired) ** could call immigration!\n",
      "\n",
      "[Scene: The Hallway, Chandler and Joey leaving girls' apartment, carrying lasagna.]\n",
      "\n",
      "Joey: ** love babies, with their little baby shoes, and their little baby toes, and their little baby hands...\n",
      "\n",
      "Chandler: Ok, **'re going to have to stop that, forever!\n",
      "\n",
      "(Joey opens door, throws keys on kitchen table, table falls over)\n",
      "\n",
      "Joey: Need a new table.\n",
      "\n",
      "Chandler: You think?\n",
      "\n",
      "[Scene: Carol and Susan's, there's a knock on the door and Carol answers ** to Ross.]\n",
      "\n",
      "Carol: Hey hey, come on in!\n",
      "\n",
      "(Ross enters, carrying lasagna)\n",
      "\n",
      "Ross: Hey, hello! mmwa! (kisses Carol) ** brought all the books, and Monica sends ** love, along with this lasagna.\n",
      "\n",
      "Carol: Oh great! Is ** vegetarian, 'cause Susan doesn't eat meat.\n",
      "\n",
      "Ross: (pauses) **'m pretty sure that ** is...\n",
      "\n",
      "Carol: So, ** got the results of the amnio today.\n",
      "\n",
      "Ross: (making flinging gestures with hands) Oh, tell **, tell **, is everything, uhh....?\n",
      "\n",
      "Carol: Totally and completely healthy!\n",
      "\n",
      "Ross: Oh, that's great, that is great! (Hugs and kisses Carol. Then picks up a picture frame)\n",
      "\n",
      "Ross: Hey, when did ** and Susan meet Huey Lewis?\n",
      "\n",
      "Carol: Uh, that's our friend Tanya.\n",
      "\n",
      "Ross: (surprised, chuckling nervously) Of course **'s your friend Tanya. (looks up frightenedly)\n",
      "\n",
      "Carol: Don't ** want to know about the sex?\n",
      "\n",
      "Ross: (chuckles nervously) The sex? (chuckles) Um, **'m having enough trouble with the image of ** and Susan together, when ** throw in Tanya (miming washing hair, that's the best ** could think of), yaw...\n",
      "\n",
      "Carol: The sex of the baby, Ross.\n",
      "\n",
      "Ross: Oh, ** know the sex of the baby? Oh, oh-oh-oh!\n",
      "\n",
      "Carol: Do ** want to know?\n",
      "\n",
      "Ross: No, no, no, no, no, ** don't want to know, absolutely not. ** think, ** know, ** think ** should know until ** look down there, and say, oop, there ** is! (pauses) Or isn't...\n",
      "\n",
      "(Susan enters)\n",
      "\n",
      "Susan: Oh, hello Ross!\n",
      "\n",
      "Ross: Susan...\n",
      "\n",
      "Susan: So, so, did ** hear?\n",
      "\n",
      "Ross: Yes, ** did, everything's A-OK!\n",
      "\n",
      "Susan: Oh, that's so... (Susan hugs Carol, ** giggle, Ross steps away) It really is...do ** know...?\n",
      "\n",
      "Carol: Yes, ** certainly do, **'s going to be...\n",
      "\n",
      "Ross: (flailing arms in protest) Oh, hey hey hey, ho ho ho, hello, guy who doesn't want to know, standing right here!\n",
      "\n",
      "Susan: Oh, well, is ** what ** thought ** would be?\n",
      "\n",
      "Carol: Mm-hmmm (Susan and Carol hug, giggling. Ross stands back, reaches out and lightly taps Susan's shoulder)\n",
      "\n",
      "Ross: Ok, what, what...ok, what did ** think ** was going to be?\n",
      "\n",
      "Carol and Susan: It's a...\n",
      "\n",
      "Ross: (interrupts) No, no, no ** don't want to know, don't want to know. Ok, ** know, ** should probably, ** should probably just go.\n",
      "\n",
      "Carol: Well, thanks for the books.\n",
      "\n",
      "Ross: No problem, ok, mmmwa (kisses Carol) oh, mmmwa (kisses Carol's stomach, then punches Susan's shoulder) Susan... (Ross leaves.)\n",
      "\n",
      "Susan: All right, who should ** call first, your folks, or Deb and Rona? (intercom buzzer rings)\n",
      "\n",
      "Carol: Hello?\n",
      "\n",
      "Ross: (on intercom) Uh, never mind, ** don't want to know. (Carol and Susan laugh)\n",
      "\n",
      "[Scene: Chandler and Joey's,  Joey and Chandler use their knees as a table to support the lasagna.]\n",
      "\n",
      "Chandler: Ok, so **'s just because ** was my table, ** have to buy a new one?\n",
      "\n",
      "Joey: That's the rule.\n",
      "\n",
      "Chandler: What rule? There's no rule, if anything, ** owe ** a table!\n",
      "\n",
      "Joey: How'd ** get to that?\n",
      "\n",
      "Chandler: Well, ** believe the piece of furniture was fine until your little breakfast adventure with Angela Delvecchio\n",
      "\n",
      "Joey: You knew about that?\n",
      "\n",
      "Chandler: Well, let's just say the impressions ** made in the butter left little to the imagination.\n",
      "\n",
      "Joey: Ok, ok, How about if ** split **?\n",
      "\n",
      "Chandler: What do ** mean, like, buy ** together?\n",
      "\n",
      "Joey: Yeah\n",
      "\n",
      "Chandler: You think **'re ready for something like that?\n",
      "\n",
      "Joey: Why not?\n",
      "\n",
      "Chandler: Well, **'s a pretty big commitment, ** mean, what if one of ** wants to move out?\n",
      "\n",
      "Joey: Why, are ** moving out?\n",
      "\n",
      "Chandler: **'m not moving out.\n",
      "\n",
      "Joey: You'd tell ** if ** were moving out right\n",
      "\n",
      "Chandler: Yeah, yeah, **'s just that with my last roommate Kip...\n",
      "\n",
      "Joey: Aw, ** know all about Kip!\n",
      "\n",
      "Chandler: It's just that ** bought a hibachi together, and then ** ran off and got married, and things got pretty ugly.\n",
      "\n",
      "Joey: Well, let ** ask ** something, was Kip a better roommate than **?\n",
      "\n",
      "Chandler: Aw, don't do that\n",
      "\n",
      "[Scene: Phoebe's Massage Parlor, Phoebe's assistant is telling ** about the changes to ** schedule.]\n",
      "\n",
      "Phoebe's Assistant: We've got a couple changes in your schedule. Your 4:00 herbal massage has been pushed back to 4:30 and Miss Somerfield canceled ** 5:30 shiatsu.\n",
      "\n",
      "Phoebe: Ok, thanks. (assistant leaves, then walks back in)\n",
      "\n",
      "Phoebe's Assistant: Oh, here comes your 3:00. ** don't mean to sound unprofessional, but, yum (walks out, Paolo enters)\n",
      "\n",
      "Paolo: Buon Giorno, Bella Phoebe!\n",
      "\n",
      "Phoebe: Oh, Paolo, hi, what are ** doing here?\n",
      "\n",
      "Paolo: Uh, Racquela tell ** ** massage, eh?\n",
      "\n",
      "Phoebe: Well, Racquela's right, yeah!\n",
      "\n",
      "(Paolo speaks Italian)\n",
      "\n",
      "Phoebe: Oh, okay, ** don't know what ** just said, so let's get started.\n",
      "\n",
      "Paolo: Uh, ** am, uh, being naked?\n",
      "\n",
      "Phoebe: Um, that's really your decision, ** mean, some people prefer, ** know, to take off...oh whoops! You're being naked!\n",
      "\n",
      "[Scene: Central Perk, everyone but Phoebe is there.]\n",
      "\n",
      "Rachel: (to Ross) ** can't believe ** don't want to know. ** mean, ** couldn't not know, ** mean, if, if the doctor knows, and Carol knows, and Susan knows....\n",
      "\n",
      "Monica: And Monica knows...\n",
      "\n",
      "Ross: Wha, heh, how could ** know, ** don't even know!\n",
      "\n",
      "Monica: Carol called ** to thank ** for the lasagna, ** asked, ** told **.\n",
      "\n",
      "Joey: So what's ** gonna be? (Monica whispers in Joey's ear. Ross gets up and waves arms frantically in protest)\n",
      "\n",
      "Ross: Wait—oh—hey—huh, oh great now ** knows, and ** don't know!\n",
      "\n",
      "Monica: **'m sorry, **'m just excited about being an aunt!\n",
      "\n",
      "Joey: Or an uncle...\n",
      "\n",
      "(Phoebe enters)\n",
      "\n",
      "Joey and Chandler: Hey Phoebe!\n",
      "\n",
      "Ross: Hi Pheebs!\n",
      "\n",
      "Rachel: Pheebs!\n",
      "\n",
      "Phoebe: Fine!\n",
      "\n",
      "Monica: Phoebe, what's the matter?\n",
      "\n",
      "Phoebe: Nothing, **'m sorry, **'m just, **'m out of sorts.\n",
      "\n",
      "Customer: Hey, can ** get some cappuccino over here?\n",
      "\n",
      "Rachel: Oh, right, that's **!\n",
      "\n",
      "Joey: Hey, Chandler, that table place closes at 7, come on.\n",
      "\n",
      "Chandler: Fine. (Joey and Chandler walk towards the door)\n",
      "\n",
      "Monica: Phoebe, what is **?\n",
      "\n",
      "Phoebe: All right, ** know Paolo?\n",
      "\n",
      "Ross: **'m familiar with his work, yes...\n",
      "\n",
      "Phoebe: Well, ** made a move on **.\n",
      "\n",
      "(Joey and Chandler come back)\n",
      "\n",
      "Joey: Whoa, store will be open tomorrow!\n",
      "\n",
      "Chandler: More coffee over here, please!\n",
      "\n",
      "Commercial Break\n",
      "\n",
      "[Scene: Central Perk, continued from earlier.]\n",
      "\n",
      "Monica: Well, what happened?\n",
      "\n",
      "Phoebe: Well, ** came in for a massage, and everything was fine until. (A flashback starts Paolo, lying on massage table, moving his hands up Phoebe's legs.)\n",
      "\n",
      "[Cut back to Central Perk.]\n",
      "\n",
      "Joey and Chandler:  Ooooohh!\n",
      "\n",
      "Ross: My God.\n",
      "\n",
      "Monica: Are ** sure?\n",
      "\n",
      "(The flashback resumes with Paolo grabbing ** butt.)\n",
      "\n",
      "[Cut back to Central Perk.]\n",
      "\n",
      "Phoebe: Oh yeah, **'m sure. (Flashback resumes with Phoebe doing a voiceover.) And all of a sudden his hands weren't the problem anymore. (Flashback continues: Paolo rolls over, Phoebe looks down, then quickly looks up, bites lip, shakes ** head)\n",
      "\n",
      "Monica: Was **...?\n",
      "\n",
      "Phoebe: Oh, boy scouts could have camped under there.\n",
      "\n",
      "Guys: Oooooo....\n",
      "\n",
      "(Rachel runs over)\n",
      "\n",
      "Rachel: \"Ooo,\" what?\n",
      "\n",
      "Phoebe: Uma Thurman.\n",
      "\n",
      "Monica: Oh!\n",
      "\n",
      "Ross: The actress!\n",
      "\n",
      "(all talking indistinctly, high-fiving)\n",
      "\n",
      "Ross: Thanks Rach.\n",
      "\n",
      "(Rachel walks away)\n",
      "\n",
      "Chandler: So what are ** gonna do?\n",
      "\n",
      "Ross: You have to tell **! You have to tell **! It's your moral obligation, as a friend, as a woman, ** think **'s a feminist issue! Guys? Guys? (waiting for guys to chime in)\n",
      "\n",
      "Chandler: Oh, yeah, ** have to tell **.\n",
      "\n",
      "Joey: Feminist issue. That's where ** went!\n",
      "\n",
      "Phoebe: She is gonna hate **.\n",
      "\n",
      "Ross:(sympathetic yet...) Yeah, well...\n",
      "\n",
      "[Scene: The Table Store, Joey and Chandler and looking for their new table.]\n",
      "\n",
      "Joey: Will ** pick one, just pick one! Here, how about that one? (points to a table)\n",
      "\n",
      "Chandler: That's patio furniture!\n",
      "\n",
      "Joey: So what, like people are gonna come in and think, \"Uh-oh, **'m outside again?\" Of course!\n",
      "\n",
      "Chandler: (gesturing towards another table) What about the birds?\n",
      "\n",
      "Joey: ** don't know, birds just don't say, \"Hello, sit here, eat something.\"\n",
      "\n",
      "Chandler: You pick one.\n",
      "\n",
      "Joey: All right, how about the ladybugs?\n",
      "\n",
      "Chandler: Oh, so, forget about the birds, but big red insects suggest fine dining!\n",
      "\n",
      "Joey: Fine, ** want to get the birds, get the birds!\n",
      "\n",
      "Chandler: Not like that, ** won't! (pauses) Kip would have liked the birds! (Joey turns and gives Chandler a dirty look)\n",
      "\n",
      "[Scene: Monica and Rachel's, Rachel folding and packing clothes in suitcases as Phoebe enters.]\n",
      "\n",
      "Phoebe: Hey!\n",
      "\n",
      "Rachel: Hi Pheebs!\n",
      "\n",
      "Phoebe: Are ** moving out?\n",
      "\n",
      "Rachel: No, these aren't all my suitcases. (picks up small blue suitcase and shows to Phoebe) This one's Paolo's.\n",
      "\n",
      "Phoebe: Um, um, Rachel can ** talk for a sec?\n",
      "\n",
      "Rachel: Well, sure...just a sec, though, 'cause Paolo's on his way over.\n",
      "\n",
      "Phoebe: Oh! (sits down) Ok, um, ok, um,\n",
      "\n",
      "Rachel: Oh, Pheebs, Pheebs...\n",
      "\n",
      "Phoebe: Ok, um, (clears throat) ** haven't known each other for that long a time, and, um, there are three things that ** should know about **. One, my friends are the most important thing in my life, two, ** never lie, and three, ** make the best oatmeal raisin cookies in the world. (Phoebe opens a tin and offers Rachel a cookie)\n",
      "\n",
      "Rachel: (taking cookie) Ok, thanks Pheebs (takes bite of cookie, overwhelmed) Oh my God, why have ** never tasted these before?!\n",
      "\n",
      "Phoebe: Oh, ** don't make ** a lot because ** don't think **'s fair to the other cookies\n",
      "\n",
      "Rachel: All right, well, **'re right, these are the best oatmeal cookies **'ve ever had.\n",
      "\n",
      "Phoebe: Which proves that ** never lie.\n",
      "\n",
      "Rachel: ** guess ** don't.\n",
      "\n",
      "Phoebe: Paolo made a pass at **.\n",
      "\n",
      "(Rachel looks stunned)\n",
      "\n",
      "[Scene: Chandler and Joey's, Ross, Chandler, Joey, and Monica admiring their new table.]\n",
      "\n",
      "Chandler: So, what do ** think?\n",
      "\n",
      "Ross: ** think It's the most beautiful table **'ve ever seen.\n",
      "\n",
      "Chandler: ** know!\n",
      "\n",
      "(The camera pans back to reveal Joey and Chandler's new foosball table.)\n",
      "\n",
      "Monica: So how does this work, ** going to balance the plates on these little guys' heads?\n",
      "\n",
      "Joey: Who cares, **'ll eat at the sink! Come on, let's play!\n",
      "\n",
      "Monica: Heads up Ross! (Monica scores on Chandler and Joey) Score! (points at Chandler) You suck!\n",
      "\n",
      "(Chandler looks at Joey in amazement)\n",
      "\n",
      "[Scene: Monica and Rachel's, Rachel is recovering from the shock.]\n",
      "\n",
      "Phoebe: Are ** okay?\n",
      "\n",
      "Rachel: ** need some milk.\n",
      "\n",
      "Phoebe: Ok, **'ve got milk (takes thermos from ** bag and starts to pour a cup) Here ** go... (Rachel drinks straight from thermos) Oh!(Rachel finishes thermos) Better?\n",
      "\n",
      "Rachel: No...oh, ** feel so stupid! Oh, ** think about the other day with ** guys and ** was all \"Oh, Paolo, **'s so great, ** makes ** feel so...\" Oh, God, **'m so embarrassed!\n",
      "\n",
      "Phoebe: **'m so embarrassed, **'m the one ** hit on!\n",
      "\n",
      "(Phoebe's and Rachel's lines overlap)\n",
      "\n",
      "Rachel: Pheebs, if ** had never met ** this never would have happened!\n",
      "\n",
      "Rachel and Phoebe: **'m so sorry! No **'m sorry! No **'m sorry! No **'m sorry!\n",
      "\n",
      "Phoebe: No, wait, oh, what are ** sorry about?\n",
      "\n",
      "Rachel: ** don't know...right, **'s the pig!\n",
      "\n",
      "Phoebe: Such a pig!\n",
      "\n",
      "Rachel: Oh, God, **'s such a pig,\n",
      "\n",
      "Phoebe: Oh **'s like a...\n",
      "\n",
      "Rachel: He's like a big disgusting...\n",
      "\n",
      "Phoebe: ...like a...\n",
      "\n",
      "Rachel: ...pig...pig man!\n",
      "\n",
      "Phoebe: Yes, good! Ok...\n",
      "\n",
      "Rachel: (voice wavers) Oh, but ** was my pig man...how did ** not see this?\n",
      "\n",
      "Phoebe: (raises hand) Oh! ** know! (Rachel startled) It's because... **'s gorgeous, and **'s charming, and when ** looks at **...\n",
      "\n",
      "Rachel: Ok, Ok, Pheebs...\n",
      "\n",
      "Phoebe: The end.\n",
      "\n",
      "Rachel: Oh, God...\n",
      "\n",
      "Phoebe: Should ** not have told **?\n",
      "\n",
      "Rachel: No, no, trust, **, **'s, **'s, **'s much better that ** know. Uh, ** just liked ** better before ** was better...\n",
      "\n",
      "(Phoebe scoots ** chair over to Rachel and hugs **)\n",
      "\n",
      "[Scene: Chandler and Joey's, Phoebe is telling everyone how ** went across the hall as the foosball game continues.]\n",
      "\n",
      "Phoebe: ** think ** took ** pretty well. You know Paolo's over there right now, so...\n",
      "\n",
      "Monica: We should get over there and see if **'s okay. (switching places with Ross) Just one...second! Score! (Monica scores, high-fives with Ross) Game! Come on. (Monica and Phoebe leave)\n",
      "\n",
      "Ross: (wiping his brow) Ah...ooh! Well, looks like, uh, ** kicked your butts.\n",
      "\n",
      "Joey: No-no, ** kicked our butts. You could be on the Olympic standing-there team.\n",
      "\n",
      "Ross: Come on, two on one.\n",
      "\n",
      "Chandler: What are ** still doing here? She just broke up with the guy, **'s time for ** to swoop in!\n",
      "\n",
      "Ross: What, now?\n",
      "\n",
      "Joey: Yes, now is when ** swoop! You gotta make sure that when Paolo walks out of there, the first guy Rachel sees is **, She's gotta know that **'re everything **'s not! You're like, like the anti-Paolo!\n",
      "\n",
      "Chandler: My Catholic friend is right. She's distraught. You're there for **. You pick up the pieces, and then ** usher in the age of Ross! (Ross and Chandler look off into the distance. Joey, wondering what ** are looking at, looks in the same direction)\n",
      "\n",
      "[Scene: Monica and Rachel's Balcony, Rachel is throwing Paolo's clothes over the side.]\n",
      "\n",
      "Paolo: No, that's cold, that's cold, that's...\n",
      "\n",
      "[Cut to inside the apartment.]\n",
      "\n",
      "Ross: (entering) How's ** going?\n",
      "\n",
      "Monica: Don't stare. Now ** just finished throwing his clothes off the balcony, now there's just a lot of gesturing and arm-waving, (shows Rachel gesturing with hands in front of ** chest), Ok, that is either, \"How could **?\" or, \"Enormous breasts!\" Here ** comes!\n",
      "\n",
      "Phoebe: Ooh!\n",
      "\n",
      "(Paolo enters. Ross, Phoebe, and Monica scatter)\n",
      "\n",
      "Paolo: Uh, ** am, uh, to say good-bye.\n",
      "\n",
      "Phoebe: Oh, ok bye-bye.\n",
      "\n",
      "Monica: Paolo, ** really hate ** for what ** did to Rachel, (hands ** a lasagna) but ** still have five of these, so heat ** at 375 until the cheese bubbles.\n",
      "\n",
      "Paolo: Grazie.\n",
      "\n",
      "Ross: Paolo, **-** just want to tell ** and ** think ** speak for everyone when ** say... (shuts door in his face and walks away)\n",
      "\n",
      "Phoebe: Oh, just look at **... (girls move toward Rachel on the balcony)\n",
      "\n",
      "Ross: Oh ** guys, **-** really think just one of ** should go out there so **'s not overwhelmed...\n",
      "\n",
      "Monica: Oh, **'re right.\n",
      "\n",
      "Ross: (pulls Monica back) ...and ** really think ** should be **.\n",
      "\n",
      "[Cut to the balcony, Ross has just climbed through the window.]\n",
      "\n",
      "Ross: Hey.\n",
      "\n",
      "Rachel: Hey.\n",
      "\n",
      "Ross: You all right?\n",
      "\n",
      "Rachel: Ooh, **'ve been better...\n",
      "\n",
      "Ross: Come here. (** hugs Rachel) Listen, ** deserve so much better than **...** know, ** mean, **, **, ** should be with a guy who knows what ** has when ** has **.\n",
      "\n",
      "Rachel: Oh, Ross...\n",
      "\n",
      "Ross: What?\n",
      "\n",
      "Rachel: ** am so sick of guys. ** don't want to look at another guy, ** don't want to think about another guy, ** don't even want to be near another guy. (Ross crosses arms)\n",
      "\n",
      "Ross: Huh.\n",
      "\n",
      "Rachel: Oh Ross, **'re so great!\n",
      "\n",
      "Ross: Ohhhh (Hugs ** and sighs)\n",
      "\n",
      "[Cut to inside the apartment, Rachel and Ross are entering.]\n",
      "\n",
      "Monica: Ooh...hey honey, are ** all right?\n",
      "\n",
      "Rachel: Oh...\n",
      "\n",
      "Phoebe: You ok?\n",
      "\n",
      "Rachel: ...medium...hmm...any cookies left?\n",
      "\n",
      "Phoebe: Yep!\n",
      "\n",
      "Ross: See, Rach, uh, see, ** don't think that swearing off guys altogether is the answer. ** really don't. ** think that what ** need is to develop a more sophisticated screening process.\n",
      "\n",
      "Rachel: No. ** just need to be by myself for a while, ** know? ** just got to figure out what ** want\n",
      "\n",
      "Ross: Uh, no, no, see, because not...not all guys are going to be a Paolo.\n",
      "\n",
      "Rachel: No, ** know, ** know, and **'m sure your little boy is not going to grow up to be one.\n",
      "\n",
      "Ross: (astonished) What?\n",
      "\n",
      "Rachel: What?\n",
      "\n",
      "Ross: **-**'m, **'m having a boy?\n",
      "\n",
      "Rachel: Uh...no. No, no, in fact, **'re not having a boy.\n",
      "\n",
      "Ross: Wha-**'m having, **'m having a boy! (babbling) Huh, am ** having a boy?\n",
      "\n",
      "Girls: Yes, **'re having a boy! (Monica runs over and hugs Ross)\n",
      "\n",
      "Ross: **'m having a boy! Oh, **'m having a boy!\n",
      "\n",
      "(Joey and Chandler run in)\n",
      "\n",
      "Chandler: Wha-\n",
      "\n",
      "Joey: Wha-\n",
      "\n",
      "Joey and Chandler: What is **?\n",
      "\n",
      "Ross: **'m having a boy! **-**'m having a boy!\n",
      "\n",
      "Joey: Hey!\n",
      "\n",
      "Chandler: Hey!\n",
      "\n",
      "Joey and Chandler: We already knew that! (** hug)\n",
      "\n",
      "Ross: **'m having a son. Um...\n",
      "\n",
      "(Ross looks scared)\n",
      "\n",
      "Closing Credits\n",
      "\n",
      "[Scene: Chandler and Joey's, Monica is busy killing Chandle and Joey at foosball.]\n",
      "\n",
      "Monica: Yes! And that would be a shut-down!\n",
      "\n",
      "Joey and Chandler: Shut-out!! (They both start heading for their rooms.)\n",
      "\n",
      "Monica: Where are ** guys going? Come on, one more game!\n",
      "\n",
      "Joey: Uh, **'s 2:30 in the morning!\n",
      "\n",
      "Chandler: Yeah, get out!\n",
      "\n",
      "Monica: You guys are always hanging out in my apartment! Come on, **'ll only use my left hand, huh? Come on, wussies! (Joey and Chandler pick ** up) All right, ok, ** gotta go. **'m going, (** throw ** out) and **'m gone.\n",
      "\n",
      "Chandler: (to Joey) One more game?\n",
      "\n",
      "Joey: Oh yeah!\n",
      "\n",
      "End\n"
     ]
    }
   ],
   "source": [
    "import re\n",
    "infile=open('The One With the Dozen Lasagnes.txt','r')\n",
    "\n",
    "#全文字符串\n",
    "txt_str=\"\"\n",
    "for line in infile:\n",
    "    txt_str+=line\n",
    "p = re.compile(r'\\bI\\b|\\byou\\b|\\bhe\\b|\\bshe\\b|\\bit\\b|\\bwe\\b|\\byou\\b|\\bthey\\b|\\bme\\b|\\bhim\\b|\\bher\\b|\\bit\\b|\\bus\\b|\\bthem\\b')\n",
    "print(p.sub(lambda x:\"**\", txt_str)) "
   ]
  },
  {
   "cell_type": "markdown",
   "metadata": {},
   "source": [
    "### 27.找出文件夹下所有文件名格式为output_YYYY.MM.DD.txt(output_2016.10.21.txt)的文件 。读取文件名中的日期时间信息，并找出这一天是周几。将文件改名为output_YYYY-MM-DD-W.txt (YYYY:四位的年，MM：两位的月份，DD：两位的日，W：一位的周几，并假设周一为一周第一天)"
   ]
  },
  {
   "cell_type": "code",
   "execution_count": 3,
   "metadata": {},
   "outputs": [
    {
     "name": "stdout",
     "output_type": "stream",
     "text": [
      "/home/ds/notebooks/20180526/Exercise_Python\n",
      ".ipynb_checkpoints\n",
      "20180526-Exercise_Python-huang.ipynb\n",
      "Exercise_Python.ipynb\n",
      "The One With the Dozen Lasagnes.txt\n",
      "new.txt\n",
      "number.txt\n",
      "output_2016.03.21.txt\n",
      "2016\n",
      "03\n",
      "21\n",
      "shdfhdshfhashd\n",
      "<class 'str'>\n",
      "<class 'str'>\n",
      "new_df=output_2016.03.21-1.txt\n",
      "/home/ds/notebooks/20180526/Exercise_Python/output_2016.03.21-1.txt\n",
      "output_2018.05.31.txt\n",
      "2018\n",
      "05\n",
      "31\n",
      "shdfhdshfhashd\n",
      "<class 'str'>\n",
      "<class 'str'>\n",
      "new_df=output_2018.05.31-4.txt\n",
      "/home/ds/notebooks/20180526/Exercise_Python/output_2018.05.31-4.txt\n"
     ]
    }
   ],
   "source": [
    "import os\n",
    "import re\n",
    "import datetime\n",
    "path = '/home/ds/notebooks/20180526/Exercise_Python'\n",
    "filelist = os.listdir(path) #方法返回指定的文件夹包含的文件或文件夹的名字的列表\n",
    "p = re.compile(r'output_(\\d{4}).(\\d{2}).(\\d{2}).txt')#编译正则表达式匹配文件名格式，参考正则表达式r'output_(\\d{4}).(\\d{2}).(\\d{2}).txt'\n",
    "print('/home/ds/notebooks/20180526/Exercise_Python')\n",
    "for f in filelist:#文件名列表:\n",
    "    m =re.findall(p,f)\n",
    "    print(f)\n",
    "    if len(m)>0: #判断是否为空\n",
    "        year, month, day = re.search(p,f).groups()#groups()取出所有分组,这个函数的输入值是字符串，也就是文件名，才行，m已经是完成的结果，是tuple组成的list\n",
    "        print(year)\n",
    "        print(month)\n",
    "        print(day)\n",
    "        try:\n",
    "            print('shdfhdshfhashd')\n",
    "            dayofweek = datetime.date(int(year), int(month), int(day)).isoweekday()\n",
    "           # print(type(str(dayofweek)))\n",
    "            print(type(f[:-4]))\n",
    "            print(type(f[-4:]))\n",
    "            new_df = f[:-4]+'-'+(str(dayofweek))+f[-4:]#用expand属性或re.sub函数构造新文件名\n",
    "            print('new_df='+new_df)\n",
    "            os.rename('/home/ds/notebooks/20180526/Exercise_Python/'+f,'/home/ds/notebooks/20180526/Exercise_Python/'+new_df)#函数的两个参数文件路径+原文件名，#文件路径+新文件名\n",
    "            print('/home/ds/notebooks/20180526/Exercise_Python/'+new_df)\n",
    "        except:\n",
    "            pass #如果不是正常日期就pass\n",
    "\n",
    "   \n"
   ]
  },
  {
   "cell_type": "code",
   "execution_count": 70,
   "metadata": {},
   "outputs": [
    {
     "data": {
      "text/plain": [
       "str"
      ]
     },
     "execution_count": 70,
     "metadata": {},
     "output_type": "execute_result"
    }
   ],
   "source": [
    "str='output_2018.12.01.txt'\n",
    "str5=str[-4:]\n",
    "type(str[-4:])"
   ]
  },
  {
   "cell_type": "code",
   "execution_count": 53,
   "metadata": {},
   "outputs": [
    {
     "data": {
      "text/plain": [
       "'2018'"
      ]
     },
     "execution_count": 53,
     "metadata": {},
     "output_type": "execute_result"
    }
   ],
   "source": [
    "import re\n",
    "p = re.compile(r'output_(\\d{4}).(\\d{2}).(\\d{2}).txt')\n",
    "year, month, day = re.search(p,'output_2018.12.01.txt').groups()\n",
    "year"
   ]
  },
  {
   "cell_type": "markdown",
   "metadata": {},
   "source": [
    "--------\n",
    "## >>>选做\n",
    "### 28. 王同学希望用电脑记录他每天掌握的英文单词。\n",
    "### 请设计程序和相应的数据结构，使小王能记录新学的英文单词和其中文翻译，并能很方便地根据英文来查找中文。\n",
    "### 实现一个类，能完成功能：\n",
    "#### 1.背单词(添加单词) \n",
    "#### 2.查单词(根据单词进行翻译) \n",
    "#### 3.修改单词含义"
   ]
  },
  {
   "cell_type": "code",
   "execution_count": 20,
   "metadata": {},
   "outputs": [
    {
     "name": "stdout",
     "output_type": "stream",
     "text": [
      "hello1 &&&&& hi1\n",
      "hello1 &&&&& hi2\n"
     ]
    },
    {
     "data": {
      "text/plain": [
       "{'hello': 'hi', 'hello1': 'hi2'}"
      ]
     },
     "execution_count": 20,
     "metadata": {},
     "output_type": "execute_result"
    }
   ],
   "source": [
    "# 我不知道怎么定义一个类\n",
    "dicts={}\n",
    "def bword(word,meaning):\n",
    "    dicts[word]=meaning\n",
    "def cword(word):\n",
    "    return word+' &&&&& '+dicts.get(word,'没有找到这个单词')\n",
    "def xword(word,meaning):\n",
    "    dicts[word]=meaning\n",
    "bword('hello1','hi1')\n",
    "bword('hello','hi')\n",
    "print(cword('hello1'))\n",
    "xword('hello1','hi2')\n",
    "print(cword('hello1'))\n",
    "dicts"
   ]
  },
  {
   "cell_type": "code",
   "execution_count": null,
   "metadata": {
    "collapsed": true
   },
   "outputs": [],
   "source": [
    "class dictionary:\n",
    "    def _init_(self):\n",
    "        self.dict={}\n",
    "    def bword(self,word,meaning):\n",
    "        self.dicts[word]=meaning\n",
    "    def cword(self,word):\n",
    "        return word+' &&&&& '+self.dicts.get(word,'没有找到这个单词')\n",
    "    def xword(self,word,meaning):\n",
    "        self.dicts[word]=meaning\n",
    "  \n"
   ]
  },
  {
   "cell_type": "code",
   "execution_count": null,
   "metadata": {
    "collapsed": true
   },
   "outputs": [],
   "source": [
    "#怎么实例化一个类？"
   ]
  }
 ],
 "metadata": {
  "kernelspec": {
   "display_name": "Python 3",
   "language": "python",
   "name": "python3"
  },
  "language_info": {
   "codemirror_mode": {
    "name": "ipython",
    "version": 3
   },
   "file_extension": ".py",
   "mimetype": "text/x-python",
   "name": "python",
   "nbconvert_exporter": "python",
   "pygments_lexer": "ipython3",
   "version": "3.5.2"
  }
 },
 "nbformat": 4,
 "nbformat_minor": 2
}